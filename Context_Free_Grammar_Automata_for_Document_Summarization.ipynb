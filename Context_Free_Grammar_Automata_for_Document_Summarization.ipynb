{
  "nbformat": 4,
  "nbformat_minor": 0,
  "metadata": {
    "colab": {
      "provenance": []
    },
    "kernelspec": {
      "name": "python3",
      "display_name": "Python 3"
    },
    "language_info": {
      "name": "python"
    }
  },
  "cells": [
    {
      "cell_type": "code",
      "source": [
        "! pip install language-tool-python rouge dash jupyter-dash\n",
        "\n",
        "\n",
        "import nltk\n",
        "nltk.download('stopwords')"
      ],
      "metadata": {
        "colab": {
          "base_uri": "https://localhost:8080/"
        },
        "id": "i7B_e8ccYobd",
        "outputId": "a0e9c209-b5da-454d-9a56-57a1b4c602d4"
      },
      "execution_count": 18,
      "outputs": [
        {
          "output_type": "stream",
          "name": "stdout",
          "text": [
            "Requirement already satisfied: language-tool-python in /usr/local/lib/python3.10/dist-packages (2.8.1)\n",
            "Requirement already satisfied: rouge in /usr/local/lib/python3.10/dist-packages (1.0.1)\n",
            "Collecting dash\n",
            "  Downloading dash-2.18.1-py3-none-any.whl.metadata (10 kB)\n",
            "Collecting jupyter-dash\n",
            "  Downloading jupyter_dash-0.4.2-py3-none-any.whl.metadata (3.6 kB)\n",
            "Requirement already satisfied: pip in /usr/local/lib/python3.10/dist-packages (from language-tool-python) (24.1.2)\n",
            "Requirement already satisfied: requests in /usr/local/lib/python3.10/dist-packages (from language-tool-python) (2.32.3)\n",
            "Requirement already satisfied: tqdm in /usr/local/lib/python3.10/dist-packages (from language-tool-python) (4.66.5)\n",
            "Requirement already satisfied: wheel in /usr/local/lib/python3.10/dist-packages (from language-tool-python) (0.44.0)\n",
            "Requirement already satisfied: six in /usr/local/lib/python3.10/dist-packages (from rouge) (1.16.0)\n",
            "Requirement already satisfied: Flask<3.1,>=1.0.4 in /usr/local/lib/python3.10/dist-packages (from dash) (2.2.5)\n",
            "Requirement already satisfied: Werkzeug<3.1 in /usr/local/lib/python3.10/dist-packages (from dash) (3.0.4)\n",
            "Requirement already satisfied: plotly>=5.0.0 in /usr/local/lib/python3.10/dist-packages (from dash) (5.24.1)\n",
            "Collecting dash-html-components==2.0.0 (from dash)\n",
            "  Downloading dash_html_components-2.0.0-py3-none-any.whl.metadata (3.8 kB)\n",
            "Collecting dash-core-components==2.0.0 (from dash)\n",
            "  Downloading dash_core_components-2.0.0-py3-none-any.whl.metadata (2.9 kB)\n",
            "Collecting dash-table==5.0.0 (from dash)\n",
            "  Downloading dash_table-5.0.0-py3-none-any.whl.metadata (2.4 kB)\n",
            "Requirement already satisfied: importlib-metadata in /usr/local/lib/python3.10/dist-packages (from dash) (8.5.0)\n",
            "Requirement already satisfied: typing-extensions>=4.1.1 in /usr/local/lib/python3.10/dist-packages (from dash) (4.12.2)\n",
            "Collecting retrying (from dash)\n",
            "  Downloading retrying-1.3.4-py3-none-any.whl.metadata (6.9 kB)\n",
            "Requirement already satisfied: nest-asyncio in /usr/local/lib/python3.10/dist-packages (from dash) (1.6.0)\n",
            "Requirement already satisfied: setuptools in /usr/local/lib/python3.10/dist-packages (from dash) (75.1.0)\n",
            "Requirement already satisfied: ipython in /usr/local/lib/python3.10/dist-packages (from jupyter-dash) (7.34.0)\n",
            "Requirement already satisfied: ipykernel in /usr/local/lib/python3.10/dist-packages (from jupyter-dash) (5.5.6)\n",
            "Collecting ansi2html (from jupyter-dash)\n",
            "  Downloading ansi2html-1.9.2-py3-none-any.whl.metadata (3.7 kB)\n",
            "Requirement already satisfied: Jinja2>=3.0 in /usr/local/lib/python3.10/dist-packages (from Flask<3.1,>=1.0.4->dash) (3.1.4)\n",
            "Requirement already satisfied: itsdangerous>=2.0 in /usr/local/lib/python3.10/dist-packages (from Flask<3.1,>=1.0.4->dash) (2.2.0)\n",
            "Requirement already satisfied: click>=8.0 in /usr/local/lib/python3.10/dist-packages (from Flask<3.1,>=1.0.4->dash) (8.1.7)\n",
            "Requirement already satisfied: tenacity>=6.2.0 in /usr/local/lib/python3.10/dist-packages (from plotly>=5.0.0->dash) (9.0.0)\n",
            "Requirement already satisfied: packaging in /usr/local/lib/python3.10/dist-packages (from plotly>=5.0.0->dash) (24.1)\n",
            "Requirement already satisfied: MarkupSafe>=2.1.1 in /usr/local/lib/python3.10/dist-packages (from Werkzeug<3.1->dash) (3.0.1)\n",
            "Requirement already satisfied: zipp>=3.20 in /usr/local/lib/python3.10/dist-packages (from importlib-metadata->dash) (3.20.2)\n",
            "Requirement already satisfied: ipython-genutils in /usr/local/lib/python3.10/dist-packages (from ipykernel->jupyter-dash) (0.2.0)\n",
            "Requirement already satisfied: traitlets>=4.1.0 in /usr/local/lib/python3.10/dist-packages (from ipykernel->jupyter-dash) (5.7.1)\n",
            "Requirement already satisfied: jupyter-client in /usr/local/lib/python3.10/dist-packages (from ipykernel->jupyter-dash) (6.1.12)\n",
            "Requirement already satisfied: tornado>=4.2 in /usr/local/lib/python3.10/dist-packages (from ipykernel->jupyter-dash) (6.3.3)\n",
            "Collecting jedi>=0.16 (from ipython->jupyter-dash)\n",
            "  Downloading jedi-0.19.1-py2.py3-none-any.whl.metadata (22 kB)\n",
            "Requirement already satisfied: decorator in /usr/local/lib/python3.10/dist-packages (from ipython->jupyter-dash) (4.4.2)\n",
            "Requirement already satisfied: pickleshare in /usr/local/lib/python3.10/dist-packages (from ipython->jupyter-dash) (0.7.5)\n",
            "Requirement already satisfied: prompt-toolkit!=3.0.0,!=3.0.1,<3.1.0,>=2.0.0 in /usr/local/lib/python3.10/dist-packages (from ipython->jupyter-dash) (3.0.48)\n",
            "Requirement already satisfied: pygments in /usr/local/lib/python3.10/dist-packages (from ipython->jupyter-dash) (2.18.0)\n",
            "Requirement already satisfied: backcall in /usr/local/lib/python3.10/dist-packages (from ipython->jupyter-dash) (0.2.0)\n",
            "Requirement already satisfied: matplotlib-inline in /usr/local/lib/python3.10/dist-packages (from ipython->jupyter-dash) (0.1.7)\n",
            "Requirement already satisfied: pexpect>4.3 in /usr/local/lib/python3.10/dist-packages (from ipython->jupyter-dash) (4.9.0)\n",
            "Requirement already satisfied: charset-normalizer<4,>=2 in /usr/local/lib/python3.10/dist-packages (from requests->language-tool-python) (3.4.0)\n",
            "Requirement already satisfied: idna<4,>=2.5 in /usr/local/lib/python3.10/dist-packages (from requests->language-tool-python) (3.10)\n",
            "Requirement already satisfied: urllib3<3,>=1.21.1 in /usr/local/lib/python3.10/dist-packages (from requests->language-tool-python) (2.2.3)\n",
            "Requirement already satisfied: certifi>=2017.4.17 in /usr/local/lib/python3.10/dist-packages (from requests->language-tool-python) (2024.8.30)\n",
            "Requirement already satisfied: parso<0.9.0,>=0.8.3 in /usr/local/lib/python3.10/dist-packages (from jedi>=0.16->ipython->jupyter-dash) (0.8.4)\n",
            "Requirement already satisfied: ptyprocess>=0.5 in /usr/local/lib/python3.10/dist-packages (from pexpect>4.3->ipython->jupyter-dash) (0.7.0)\n",
            "Requirement already satisfied: wcwidth in /usr/local/lib/python3.10/dist-packages (from prompt-toolkit!=3.0.0,!=3.0.1,<3.1.0,>=2.0.0->ipython->jupyter-dash) (0.2.13)\n",
            "Requirement already satisfied: jupyter-core>=4.6.0 in /usr/local/lib/python3.10/dist-packages (from jupyter-client->ipykernel->jupyter-dash) (5.7.2)\n",
            "Requirement already satisfied: pyzmq>=13 in /usr/local/lib/python3.10/dist-packages (from jupyter-client->ipykernel->jupyter-dash) (24.0.1)\n",
            "Requirement already satisfied: python-dateutil>=2.1 in /usr/local/lib/python3.10/dist-packages (from jupyter-client->ipykernel->jupyter-dash) (2.8.2)\n",
            "Requirement already satisfied: platformdirs>=2.5 in /usr/local/lib/python3.10/dist-packages (from jupyter-core>=4.6.0->jupyter-client->ipykernel->jupyter-dash) (4.3.6)\n",
            "Downloading dash-2.18.1-py3-none-any.whl (7.5 MB)\n",
            "\u001b[2K   \u001b[90m━━━━━━━━━━━━━━━━━━━━━━━━━━━━━━━━━━━━━━━━\u001b[0m \u001b[32m7.5/7.5 MB\u001b[0m \u001b[31m46.6 MB/s\u001b[0m eta \u001b[36m0:00:00\u001b[0m\n",
            "\u001b[?25hDownloading dash_core_components-2.0.0-py3-none-any.whl (3.8 kB)\n",
            "Downloading dash_html_components-2.0.0-py3-none-any.whl (4.1 kB)\n",
            "Downloading dash_table-5.0.0-py3-none-any.whl (3.9 kB)\n",
            "Downloading jupyter_dash-0.4.2-py3-none-any.whl (23 kB)\n",
            "Downloading ansi2html-1.9.2-py3-none-any.whl (17 kB)\n",
            "Downloading retrying-1.3.4-py3-none-any.whl (11 kB)\n",
            "Downloading jedi-0.19.1-py2.py3-none-any.whl (1.6 MB)\n",
            "\u001b[2K   \u001b[90m━━━━━━━━━━━━━━━━━━━━━━━━━━━━━━━━━━━━━━━━\u001b[0m \u001b[32m1.6/1.6 MB\u001b[0m \u001b[31m51.0 MB/s\u001b[0m eta \u001b[36m0:00:00\u001b[0m\n",
            "\u001b[?25hInstalling collected packages: dash-table, dash-html-components, dash-core-components, retrying, jedi, ansi2html, dash, jupyter-dash\n",
            "Successfully installed ansi2html-1.9.2 dash-2.18.1 dash-core-components-2.0.0 dash-html-components-2.0.0 dash-table-5.0.0 jedi-0.19.1 jupyter-dash-0.4.2 retrying-1.3.4\n"
          ]
        },
        {
          "output_type": "stream",
          "name": "stderr",
          "text": [
            "[nltk_data] Downloading package stopwords to /root/nltk_data...\n",
            "[nltk_data]   Package stopwords is already up-to-date!\n"
          ]
        },
        {
          "output_type": "execute_result",
          "data": {
            "text/plain": [
              "True"
            ]
          },
          "metadata": {},
          "execution_count": 18
        }
      ]
    },
    {
      "cell_type": "markdown",
      "source": [
        "**Text Preprocessing with Sentence Compression**"
      ],
      "metadata": {
        "id": "YmG2iy87YYAP"
      }
    },
    {
      "cell_type": "code",
      "execution_count": 2,
      "metadata": {
        "colab": {
          "base_uri": "https://localhost:8080/"
        },
        "id": "-Nng5q4gYPHm",
        "outputId": "baf5619d-74dd-4dbc-ba34-c53e30438628"
      },
      "outputs": [
        {
          "output_type": "stream",
          "name": "stdout",
          "text": [
            "Compressed Sentences: ['Natural language processing fascinating field.', 'involves making computers understand human languages.']\n",
            "POS Tags: [[('Natural', 'ADJ'), ('language', 'NOUN'), ('processing', 'NOUN'), ('is', 'AUX'), ('a', 'DET'), ('fascinating', 'ADJ'), ('field', 'NOUN'), ('.', 'PUNCT'), ('\\n', 'SPACE')], [('It', 'PRON'), ('involves', 'VERB'), ('making', 'VERB'), ('computers', 'NOUN'), ('understand', 'VERB'), ('human', 'ADJ'), ('languages', 'NOUN'), ('.', 'PUNCT')]]\n"
          ]
        }
      ],
      "source": [
        "import spacy\n",
        "from nltk.tokenize import sent_tokenize\n",
        "from nltk.corpus import stopwords\n",
        "\n",
        "# Load spaCy's English language model\n",
        "nlp = spacy.load(\"en_core_web_sm\")\n",
        "\n",
        "# Load English stop words from NLTK\n",
        "stop_words = set(stopwords.words('english'))\n",
        "\n",
        "def preprocess_text(text):\n",
        "    \"\"\"\n",
        "    Preprocesses the input text by segmenting it into sentences\n",
        "    and extracting POS (Part of Speech) tags for each word.\n",
        "    \"\"\"\n",
        "    doc = nlp(text)  # Parse the text with spaCy\n",
        "    sentences = [sent.text for sent in doc.sents]  # Extract sentences\n",
        "    pos_tags = [[(token.text, token.pos_) for token in nlp(sent)] for sent in sentences]  # Extract POS tags\n",
        "    return sentences, pos_tags\n",
        "\n",
        "def compress_sentence(sentence):\n",
        "    \"\"\"\n",
        "    Compresses the sentence by removing stop words to focus on key information.\n",
        "    \"\"\"\n",
        "    words = sentence.split()\n",
        "    compressed = ' '.join([word for word in words if word.lower() not in stop_words])\n",
        "    return compressed\n",
        "\n",
        "def preprocess_and_compress(text):\n",
        "    \"\"\"\n",
        "    Preprocesses the text and applies sentence compression.\n",
        "    \"\"\"\n",
        "    sentences, pos_tags = preprocess_text(text)  # Preprocess the text\n",
        "    compressed_sentences = [compress_sentence(sent) for sent in sentences]  # Compress each sentence\n",
        "    return compressed_sentences, pos_tags\n",
        "\n",
        "# Example usage\n",
        "text = \"\"\"Natural language processing is a fascinating field.\n",
        "It involves making computers understand human languages.\"\"\"\n",
        "compressed_sentences, pos_tags = preprocess_and_compress(text)\n",
        "print(\"Compressed Sentences:\", compressed_sentences)  # Display compressed sentences\n",
        "print(\"POS Tags:\", pos_tags)  # Display POS tags for analysis"
      ]
    },
    {
      "cell_type": "code",
      "source": [
        "# Visualization 1: Word Count Distribution\n",
        "import matplotlib.pyplot as plt\n",
        "\n",
        "word_counts = [len(sent.split()) for sent in compressed_sentences]  # Count words in each sentence\n",
        "plt.hist(word_counts, bins=5, edgecolor='black')\n",
        "plt.title(\"Word Count Distribution\")\n",
        "plt.xlabel(\"Word Count\")\n",
        "plt.ylabel(\"Frequency\")\n",
        "plt.show()"
      ],
      "metadata": {
        "colab": {
          "base_uri": "https://localhost:8080/",
          "height": 472
        },
        "id": "zeG1Ze7AdLqI",
        "outputId": "6a7943e0-528e-4be4-fb45-de3b0ea62ffd"
      },
      "execution_count": 3,
      "outputs": [
        {
          "output_type": "display_data",
          "data": {
            "text/plain": [
              "<Figure size 640x480 with 1 Axes>"
            ],
            "image/png": "[encoded data removed]"
          },
          "metadata": {}
        }
      ]
    },
    {
      "cell_type": "markdown",
      "source": [
        "**Context-Free Grammar (CFG) Construction**"
      ],
      "metadata": {
        "id": "KKwiLNgsZyaO"
      }
    },
    {
      "cell_type": "code",
      "source": [
        "import nltk\n",
        "from nltk import CFG\n",
        "\n",
        "# Define CFG rules to describe sentence structure\n",
        "grammar = CFG.fromstring(\"\"\"\n",
        "    S -> NP VP\n",
        "    NP -> Det N | Det Adj N\n",
        "    VP -> V NP | V\n",
        "    Det -> 'a' | 'the'\n",
        "    N -> 'field' | 'language' | 'computers'\n",
        "    Adj -> 'fascinating'\n",
        "    V -> 'is' | 'involves'\n",
        "\"\"\")\n",
        "\n",
        "# Example usage\n",
        "print(\"CFG Rules:\")\n",
        "print(grammar)  # Display the CFG rules"
      ],
      "metadata": {
        "colab": {
          "base_uri": "https://localhost:8080/"
        },
        "id": "v22cFeQ7ZzZw",
        "outputId": "3e171e75-0134-4b27-9ca8-dc9a16810f34"
      },
      "execution_count": 4,
      "outputs": [
        {
          "output_type": "stream",
          "name": "stdout",
          "text": [
            "CFG Rules:\n",
            "Grammar with 13 productions (start state = S)\n",
            "    S -> NP VP\n",
            "    NP -> Det N\n",
            "    NP -> Det Adj N\n",
            "    VP -> V NP\n",
            "    VP -> V\n",
            "    Det -> 'a'\n",
            "    Det -> 'the'\n",
            "    N -> 'field'\n",
            "    N -> 'language'\n",
            "    N -> 'computers'\n",
            "    Adj -> 'fascinating'\n",
            "    V -> 'is'\n",
            "    V -> 'involves'\n"
          ]
        }
      ]
    },
    {
      "cell_type": "code",
      "source": [
        "# Visualization 2: POS Tag Frequency\n",
        "from collections import Counter\n",
        "\n",
        "all_pos_tags = [tag for sentence in pos_tags for _, tag in sentence]\n",
        "pos_counts = Counter(all_pos_tags)  # Count the occurrences of POS tags\n",
        "plt.bar(pos_counts.keys(), pos_counts.values())\n",
        "plt.title(\"POS Tag Frequency\")\n",
        "plt.xlabel(\"POS Tag\")\n",
        "plt.ylabel(\"Count\")\n",
        "plt.show()"
      ],
      "metadata": {
        "colab": {
          "base_uri": "https://localhost:8080/",
          "height": 472
        },
        "id": "XEGwYxxWdPJg",
        "outputId": "1ed79da5-d3a6-4eb9-8886-8fa86047bae6"
      },
      "execution_count": 5,
      "outputs": [
        {
          "output_type": "display_data",
          "data": {
            "text/plain": [
              "<Figure size 640x480 with 1 Axes>"
            ],
            "image/png": "[encoded data removed]"
          },
          "metadata": {}
        }
      ]
    },
    {
      "cell_type": "markdown",
      "source": [
        "**Sentence Parsing with Pushdown Automata (PDA)**"
      ],
      "metadata": {
        "id": "2b_D0jejaBHo"
      }
    },
    {
      "cell_type": "code",
      "source": [
        "from nltk.parse import RecursiveDescentParser\n",
        "\n",
        "def parse_sentence(sentence, grammar):\n",
        "    \"\"\"\n",
        "    Tries to parse the given sentence using CFG rules. If the sentence contains words\n",
        "    not covered by the grammar, it prints a warning message and skips parsing.\n",
        "    \"\"\"\n",
        "    parser = RecursiveDescentParser(grammar)  # Initialize the parser\n",
        "    words = sentence.lower().split()  # Tokenize the input sentence\n",
        "\n",
        "    # Check if all words in the sentence are covered by the grammar\n",
        "    grammar_words = {word for prod in grammar.productions() for word in prod.rhs()}\n",
        "    missing_words = [word for word in words if word not in grammar_words]\n",
        "\n",
        "    if missing_words:\n",
        "        print(f\"Skipping parsing. Grammar does not cover these words: {missing_words}\")\n",
        "    else:\n",
        "        print(f\"Parsing: {sentence}\")\n",
        "        for tree in parser.parse(words):\n",
        "            tree.pretty_print()  # Print the parse tree\n",
        "\n",
        "# Example usage: Using a CFG-compliant sentence for parsing\n",
        "print(\"\\nParse Tree:\")\n",
        "parse_sentence(\"The language is fascinating\", grammar)  # Parsing a compliant sentence"
      ],
      "metadata": {
        "colab": {
          "base_uri": "https://localhost:8080/"
        },
        "id": "_BYBu6iQaCDW",
        "outputId": "460e693b-3b06-457e-c4f0-d0cdd8485408"
      },
      "execution_count": 6,
      "outputs": [
        {
          "output_type": "stream",
          "name": "stdout",
          "text": [
            "\n",
            "Parse Tree:\n",
            "Parsing: The language is fascinating\n"
          ]
        }
      ]
    },
    {
      "cell_type": "markdown",
      "source": [
        "**Relevance Scoring using TF-IDF**"
      ],
      "metadata": {
        "id": "cmJB8MvTaFEH"
      }
    },
    {
      "cell_type": "code",
      "source": [
        "from sklearn.feature_extraction.text import TfidfVectorizer\n",
        "import numpy as np\n",
        "\n",
        "def compute_tfidf(sentences):\n",
        "    \"\"\"\n",
        "    Computes TF-IDF scores for each sentence to identify key sentences.\n",
        "    \"\"\"\n",
        "    vectorizer = TfidfVectorizer()  # Initialize the vectorizer\n",
        "    tfidf_matrix = vectorizer.fit_transform(sentences)  # Fit and transform the sentences\n",
        "    scores = tfidf_matrix.sum(axis=1)  # Sum the TF-IDF scores for each sentence\n",
        "    return scores\n",
        "\n",
        "# Example usage\n",
        "tfidf_scores = compute_tfidf(compressed_sentences)  # Compute scores for the sentences\n",
        "print(\"\\nTF-IDF Scores:\", tfidf_scores)  # Display the scores"
      ],
      "metadata": {
        "colab": {
          "base_uri": "https://localhost:8080/"
        },
        "id": "BC-CqjpIaFPf",
        "outputId": "f4e8c0a6-5c85-4df0-f810-931f70b167e1"
      },
      "execution_count": 7,
      "outputs": [
        {
          "output_type": "stream",
          "name": "stdout",
          "text": [
            "\n",
            "TF-IDF Scores: [[2.23606798]\n",
            " [2.44948974]]\n"
          ]
        }
      ]
    },
    {
      "cell_type": "code",
      "source": [
        "# Visualization 3: TF-IDF Score Distribution\n",
        "plt.bar(range(len(tfidf_scores)), [score[0, 0] for score in tfidf_scores])\n",
        "plt.title(\"TF-IDF Score Distribution\")\n",
        "plt.xlabel(\"Sentence Index\")\n",
        "plt.ylabel(\"TF-IDF Score\")\n",
        "plt.show()"
      ],
      "metadata": {
        "colab": {
          "base_uri": "https://localhost:8080/",
          "height": 472
        },
        "id": "7DBJDR5SdVF4",
        "outputId": "ac965467-f179-4725-eb3b-14391e77ef45"
      },
      "execution_count": 8,
      "outputs": [
        {
          "output_type": "display_data",
          "data": {
            "text/plain": [
              "<Figure size 640x480 with 1 Axes>"
            ],
            "image/png": "[encoded data removed]"
          },
          "metadata": {}
        }
      ]
    },
    {
      "cell_type": "markdown",
      "source": [
        "**Summary Generation**"
      ],
      "metadata": {
        "id": "0Fwi210QaL_G"
      }
    },
    {
      "cell_type": "code",
      "source": [
        "import numpy as np\n",
        "\n",
        "def generate_summary(sentences, scores, top_n=2):\n",
        "    \"\"\"\n",
        "    Selects the top-scoring sentences to generate a concise summary.\n",
        "    \"\"\"\n",
        "    # Convert scores to a 1D array before sorting\n",
        "    scores_1d = scores.A1 if isinstance(scores, np.matrix) else scores.flatten()\n",
        "\n",
        "    # Get top sentence indices as integers\n",
        "    top_indices = np.argsort(scores_1d)[-top_n:]\n",
        "\n",
        "    # Join the selected sentences\n",
        "    summary = ' '.join([sentences[i] for i in top_indices])\n",
        "\n",
        "    return summary\n",
        "\n",
        "# Example usage\n",
        "summary = generate_summary(compressed_sentences, tfidf_scores)  # Generate a summary\n",
        "print(\"\\nGenerated Summary:\", summary)  # Display the summary"
      ],
      "metadata": {
        "colab": {
          "base_uri": "https://localhost:8080/"
        },
        "id": "pkTBcXvIaPIw",
        "outputId": "bcfe5e6f-5d8c-4b1c-e87a-6a8dd1ceaabb"
      },
      "execution_count": 9,
      "outputs": [
        {
          "output_type": "stream",
          "name": "stdout",
          "text": [
            "\n",
            "Generated Summary: Natural language processing fascinating field. involves making computers understand human languages.\n"
          ]
        }
      ]
    },
    {
      "cell_type": "code",
      "source": [
        "# Visualization 4: Comparison of Original vs. Summary Length\n",
        "original_length = sum(len(sent.split()) for sent in compressed_sentences)\n",
        "summary_length = len(summary.split())\n",
        "\n",
        "plt.bar([\"Original\", \"Summary\"], [original_length, summary_length], color=['blue', 'orange'])\n",
        "plt.title(\"Text Length Comparison\")\n",
        "plt.ylabel(\"Word Count\")\n",
        "plt.show()"
      ],
      "metadata": {
        "colab": {
          "base_uri": "https://localhost:8080/",
          "height": 452
        },
        "id": "AgCqRfeNdYb5",
        "outputId": "ecee6b5c-a599-4ba7-afec-35964e208fd8"
      },
      "execution_count": 10,
      "outputs": [
        {
          "output_type": "display_data",
          "data": {
            "text/plain": [
              "<Figure size 640x480 with 1 Axes>"
            ],
            "image/png": "[encoded data removed]"
          },
          "metadata": {}
        }
      ]
    },
    {
      "cell_type": "markdown",
      "source": [
        "**Error Handling and Grammar Correction**"
      ],
      "metadata": {
        "id": "2PBlpQYjYuWf"
      }
    },
    {
      "cell_type": "code",
      "source": [
        "import language_tool_python\n",
        "\n",
        "# Initialize the LanguageTool object for English grammar checking\n",
        "tool = language_tool_python.LanguageTool('en-US')\n",
        "\n",
        "def correct_grammar(sentence):\n",
        "    \"\"\"\n",
        "    Detects and corrects grammatical errors in a given sentence using LanguageTool.\n",
        "    \"\"\"\n",
        "    matches = tool.check(sentence)  # Identify grammatical errors\n",
        "    corrected_sentence = language_tool_python.utils.correct(sentence, matches)  # Apply corrections\n",
        "    return corrected_sentence\n",
        "\n",
        "# Example usage\n",
        "corrected_sentences = [correct_grammar(sent) for sent in compressed_sentences]\n",
        "print(\"Corrected Sentences:\", corrected_sentences)  # Display corrected sentences"
      ],
      "metadata": {
        "colab": {
          "base_uri": "https://localhost:8080/"
        },
        "id": "jQliO85YYuht",
        "outputId": "af1455d9-e2a6-4d1c-9ad8-b37ad47d372c"
      },
      "execution_count": 11,
      "outputs": [
        {
          "output_type": "stream",
          "name": "stdout",
          "text": [
            "Corrected Sentences: ['Natural language processing fascinating field.', 'Involves making computers understand human languages.']\n"
          ]
        }
      ]
    },
    {
      "cell_type": "markdown",
      "source": [
        "**TF-IDF Scoring and Weighted Summary Generation**"
      ],
      "metadata": {
        "id": "rvsN3cz-ZcWX"
      }
    },
    {
      "source": [
        "from sklearn.feature_extraction.text import TfidfVectorizer\n",
        "import numpy as np\n",
        "\n",
        "def compute_tfidf(sentences):\n",
        "    \"\"\"\n",
        "    Computes the TF-IDF scores for each sentence to measure their importance.\n",
        "    \"\"\"\n",
        "    vectorizer = TfidfVectorizer()  # Initialize the TF-IDF vectorizer\n",
        "    tfidf_matrix = vectorizer.fit_transform(sentences)  # Create a TF-IDF matrix\n",
        "    scores = tfidf_matrix.sum(axis=1)  # Sum the scores for each sentence\n",
        "    return scores\n",
        "\n",
        "def generate_weighted_summary(sentences, scores, desired_length=30):\n",
        "    \"\"\"\n",
        "    Selects sentences based on TF-IDF scores to create a summary of the desired length.\n",
        "    \"\"\"\n",
        "    # Convert the scores to a 1D array and get the sorted indices\n",
        "    sorted_indices = np.argsort(scores.A1 if isinstance(scores, np.matrix) else scores.flatten(), axis=0)[::-1]\n",
        "\n",
        "    summary, length = \"\", 0  # Initialize summary and its length\n",
        "\n",
        "    # Select sentences until the desired length is reached\n",
        "    for idx in sorted_indices:\n",
        "        if length + len(sentences[idx].split()) > desired_length:\n",
        "            break\n",
        "        summary += sentences[idx] + \" \"  # Add sentence to summary\n",
        "        print(sentences[idx])\n",
        "        length += len(sentences[idx].split())  # Update the word count\n",
        "\n",
        "    return summary.strip()  # Return the final summary\n",
        "\n",
        "# Example usage\n",
        "scores = compute_tfidf(corrected_sentences)  # Compute TF-IDF scores\n",
        "print(\"TF-IDF Scores:\", scores)  # Display the scores\n",
        "summary = generate_weighted_summary(corrected_sentences, scores)  # Generate a weighted summary\n",
        "print(\"Summary:\", summary)  # Display the summary"
      ],
      "cell_type": "code",
      "metadata": {
        "colab": {
          "base_uri": "https://localhost:8080/"
        },
        "id": "-DdcWIi2aqLz",
        "outputId": "d46a68cf-89c9-4fde-efc2-166c86bf5132"
      },
      "execution_count": 12,
      "outputs": [
        {
          "output_type": "stream",
          "name": "stdout",
          "text": [
            "TF-IDF Scores: [[2.23606798]\n",
            " [2.44948974]]\n",
            "Involves making computers understand human languages.\n",
            "Natural language processing fascinating field.\n",
            "Summary: Involves making computers understand human languages. Natural language processing fascinating field.\n"
          ]
        }
      ]
    },
    {
      "cell_type": "markdown",
      "source": [
        "**Evaluation with ROUGE Metrics**"
      ],
      "metadata": {
        "id": "fU7dTEzSa6-K"
      }
    },
    {
      "cell_type": "code",
      "source": [
        "from rouge import Rouge\n",
        "\n",
        "def evaluate_summary(summary, reference):\n",
        "    \"\"\"\n",
        "    Evaluates the generated summary using ROUGE metrics by comparing it with a reference summary.\n",
        "    \"\"\"\n",
        "    rouge = Rouge()  # Initialize the ROUGE evaluator\n",
        "    scores = rouge.get_scores(summary, reference, avg=True)  # Compute ROUGE scores\n",
        "    return scores\n",
        "\n",
        "# Example usage\n",
        "reference_summary = \"Natural language processing involves understanding human languages.\"\n",
        "evaluation_scores = evaluate_summary(summary, reference_summary)  # Evaluate the summary\n",
        "print(\"\\nROUGE Evaluation Scores:\", evaluation_scores)  # Display ROUGE scores\n"
      ],
      "metadata": {
        "colab": {
          "base_uri": "https://localhost:8080/"
        },
        "id": "Sg-c5z-pa1SG",
        "outputId": "e5acd957-5df5-4027-e161-873f9288f24c"
      },
      "execution_count": 13,
      "outputs": [
        {
          "output_type": "stream",
          "name": "stdout",
          "text": [
            "\n",
            "ROUGE Evaluation Scores: {'rouge-1': {'r': 0.7142857142857143, 'p': 0.45454545454545453, 'f': 0.5555555508024692}, 'rouge-2': {'r': 0.5, 'p': 0.3, 'f': 0.3749999953125}, 'rouge-l': {'r': 0.7142857142857143, 'p': 0.45454545454545453, 'f': 0.5555555508024692}}\n"
          ]
        }
      ]
    },
    {
      "cell_type": "code",
      "source": [
        "# Visualization 5: ROUGE Score Comparison\n",
        "rouge_types = [\"rouge-1\", \"rouge-2\", \"rouge-l\"]\n",
        "rouge_f_scores = [evaluation_scores[metric]['f'] for metric in rouge_types]\n",
        "\n",
        "plt.bar(rouge_types, rouge_f_scores, color=['green', 'red', 'purple'])\n",
        "plt.title(\"ROUGE F-Scores\")\n",
        "plt.ylabel(\"F-Score\")\n",
        "plt.show()"
      ],
      "metadata": {
        "colab": {
          "base_uri": "https://localhost:8080/",
          "height": 452
        },
        "id": "qKyPbhSldciR",
        "outputId": "186d900f-d9fd-44c7-d842-22ede86fc32c"
      },
      "execution_count": 14,
      "outputs": [
        {
          "output_type": "display_data",
          "data": {
            "text/plain": [
              "<Figure size 640x480 with 1 Axes>"
            ],
            "image/png": "[encoded data removed]"
          },
          "metadata": {}
        }
      ]
    },
    {
      "cell_type": "markdown",
      "source": [
        "**Final Testing**"
      ],
      "metadata": {
        "id": "k5mL_nACbYSz"
      }
    },
    {
      "cell_type": "code",
      "source": [
        "# Example usage: Complete Workflow\n",
        "\n",
        "# Input text (Larger Paragraph)\n",
        "text = \"\"\"Natural language processing (NLP) is a branch of artificial intelligence (AI)\n",
        "focused on the interaction between computers and humans through natural languages.\n",
        "The goal of NLP is to read, decipher, understand, and make sense of the human language\n",
        "in a way that is valuable. Current applications of NLP include language translation,\n",
        "chatbots, sentiment analysis, and voice recognition systems. The field is constantly\n",
        "evolving, with new models such as BERT and GPT transforming the landscape. Despite the\n",
        "advances, NLP faces challenges, including understanding contextual meaning, handling\n",
        "ambiguities, and processing idiomatic expressions. Nonetheless, NLP plays a crucial role\n",
        "in bridging the gap between human communication and computer comprehension.\"\"\"\n",
        "\n",
        "# Step 1: Preprocess the text\n",
        "compressed_sentences, pos_tags = preprocess_and_compress(text)\n",
        "print(\"\\nCompressed Sentences:\", compressed_sentences)  # Display the sentences after preprocessing\n",
        "print(\"\\nPOS Tags:\", pos_tags)  # Display POS tags for each word\n",
        "\n",
        "# Step 2: Display CFG rules\n",
        "print(\"\\nCFG Rules:\")\n",
        "print(grammar)  # Display the CFG rules\n",
        "\n",
        "# Step 3: Parse a sample sentence from the input\n",
        "print(\"\\nParse Tree:\")\n",
        "parse_sentence(\"The field is constantly evolving\", grammar)  # Parse a sample sentence\n",
        "\n",
        "# Step 4: Compute TF-IDF scores for the sentences\n",
        "tfidf_scores = compute_tfidf(compressed_sentences)\n",
        "print(\"\\nTF-IDF Scores:\", tfidf_scores)  # Display TF-IDF scores for each sentence\n",
        "\n",
        "# Step 5: Generate a summary from the top-scoring sentences\n",
        "summary = generate_summary(compressed_sentences, tfidf_scores, top_n=3)  # Select top 3 sentences\n",
        "print(\"Original Sentence:\", text)\n",
        "print(\"\\nGenerated Summary:\", summary)  # Display the generated summary\n",
        "\n",
        "# Step 6: Evaluate the summary with ROUGE metrics\n",
        "reference_summary = (\n",
        "    \"NLP focuses on human-computer interaction through language. \"\n",
        "    \"Despite challenges, NLP has applications in translation, chatbots, and voice recognition.\"\n",
        ")\n",
        "evaluation_scores = evaluate_summary(summary, reference_summary)\n",
        "print(\"\\nROUGE Evaluation Scores:\", evaluation_scores)  # Display ROUGE scores\n"
      ],
      "metadata": {
        "colab": {
          "base_uri": "https://localhost:8080/"
        },
        "id": "ZsrzTZ24bnZd",
        "outputId": "88d8dbe1-87ef-46dd-e0fb-b93ceb72d5b9"
      },
      "execution_count": 16,
      "outputs": [
        {
          "output_type": "stream",
          "name": "stdout",
          "text": [
            "\n",
            "Compressed Sentences: ['Natural language processing (NLP) branch artificial intelligence (AI) focused interaction computers humans natural languages.', 'goal NLP read, decipher, understand, make sense human language way valuable.', 'Current applications NLP include language translation, chatbots, sentiment analysis, voice recognition systems.', 'field constantly evolving, new models BERT GPT transforming landscape.', 'Despite advances, NLP faces challenges, including understanding contextual meaning, handling ambiguities, processing idiomatic expressions.', 'Nonetheless, NLP plays crucial role bridging gap human communication computer comprehension.']\n",
            "\n",
            "POS Tags: [[('Natural', 'ADJ'), ('language', 'NOUN'), ('processing', 'NOUN'), ('(', 'PUNCT'), ('NLP', 'PROPN'), (')', 'PUNCT'), ('is', 'AUX'), ('a', 'DET'), ('branch', 'NOUN'), ('of', 'ADP'), ('artificial', 'ADJ'), ('intelligence', 'NOUN'), ('(', 'PUNCT'), ('AI', 'PROPN'), (')', 'PUNCT'), ('\\n', 'SPACE'), ('focused', 'VERB'), ('on', 'ADP'), ('the', 'DET'), ('interaction', 'NOUN'), ('between', 'ADP'), ('computers', 'NOUN'), ('and', 'CCONJ'), ('humans', 'NOUN'), ('through', 'ADP'), ('natural', 'ADJ'), ('languages', 'NOUN'), ('.', 'PUNCT'), ('\\n', 'SPACE')], [('The', 'DET'), ('goal', 'NOUN'), ('of', 'ADP'), ('NLP', 'PROPN'), ('is', 'AUX'), ('to', 'PART'), ('read', 'VERB'), (',', 'PUNCT'), ('decipher', 'PROPN'), (',', 'PUNCT'), ('understand', 'VERB'), (',', 'PUNCT'), ('and', 'CCONJ'), ('make', 'VERB'), ('sense', 'NOUN'), ('of', 'ADP'), ('the', 'DET'), ('human', 'ADJ'), ('language', 'NOUN'), ('\\n', 'SPACE'), ('in', 'ADP'), ('a', 'DET'), ('way', 'NOUN'), ('that', 'PRON'), ('is', 'AUX'), ('valuable', 'ADJ'), ('.', 'PUNCT')], [('Current', 'ADJ'), ('applications', 'NOUN'), ('of', 'ADP'), ('NLP', 'PROPN'), ('include', 'VERB'), ('language', 'NOUN'), ('translation', 'NOUN'), (',', 'PUNCT'), ('\\n', 'SPACE'), ('chatbots', 'NOUN'), (',', 'PUNCT'), ('sentiment', 'NOUN'), ('analysis', 'NOUN'), (',', 'PUNCT'), ('and', 'CCONJ'), ('voice', 'NOUN'), ('recognition', 'NOUN'), ('systems', 'NOUN'), ('.', 'PUNCT')], [('The', 'DET'), ('field', 'NOUN'), ('is', 'AUX'), ('constantly', 'ADV'), ('\\n', 'SPACE'), ('evolving', 'VERB'), (',', 'PUNCT'), ('with', 'ADP'), ('new', 'ADJ'), ('models', 'NOUN'), ('such', 'ADJ'), ('as', 'ADP'), ('BERT', 'PROPN'), ('and', 'CCONJ'), ('GPT', 'PROPN'), ('transforming', 'VERB'), ('the', 'DET'), ('landscape', 'NOUN'), ('.', 'PUNCT')], [('Despite', 'SCONJ'), ('the', 'DET'), ('\\n', 'SPACE'), ('advances', 'NOUN'), (',', 'PUNCT'), ('NLP', 'PROPN'), ('faces', 'VERB'), ('challenges', 'NOUN'), (',', 'PUNCT'), ('including', 'VERB'), ('understanding', 'VERB'), ('contextual', 'ADJ'), ('meaning', 'NOUN'), (',', 'PUNCT'), ('handling', 'VERB'), ('\\n', 'SPACE'), ('ambiguities', 'NOUN'), (',', 'PUNCT'), ('and', 'CCONJ'), ('processing', 'VERB'), ('idiomatic', 'ADJ'), ('expressions', 'NOUN'), ('.', 'PUNCT')], [('Nonetheless', 'ADV'), (',', 'PUNCT'), ('NLP', 'PROPN'), ('plays', 'VERB'), ('a', 'DET'), ('crucial', 'ADJ'), ('role', 'NOUN'), ('\\n', 'SPACE'), ('in', 'ADP'), ('bridging', 'VERB'), ('the', 'DET'), ('gap', 'NOUN'), ('between', 'ADP'), ('human', 'ADJ'), ('communication', 'NOUN'), ('and', 'CCONJ'), ('computer', 'NOUN'), ('comprehension', 'NOUN'), ('.', 'PUNCT')]]\n",
            "\n",
            "CFG Rules:\n",
            "Grammar with 13 productions (start state = S)\n",
            "    S -> NP VP\n",
            "    NP -> Det N\n",
            "    NP -> Det Adj N\n",
            "    VP -> V NP\n",
            "    VP -> V\n",
            "    Det -> 'a'\n",
            "    Det -> 'the'\n",
            "    N -> 'field'\n",
            "    N -> 'language'\n",
            "    N -> 'computers'\n",
            "    Adj -> 'fascinating'\n",
            "    V -> 'is'\n",
            "    V -> 'involves'\n",
            "\n",
            "Parse Tree:\n",
            "Skipping parsing. Grammar does not cover these words: ['constantly', 'evolving']\n",
            "\n",
            "TF-IDF Scores: [[3.43060666]\n",
            " [3.26721482]\n",
            " [3.41869097]\n",
            " [3.        ]\n",
            " [3.70701924]\n",
            " [3.27806028]]\n",
            "Original Sentence: Natural language processing (NLP) is a branch of artificial intelligence (AI) \n",
            "focused on the interaction between computers and humans through natural languages. \n",
            "The goal of NLP is to read, decipher, understand, and make sense of the human language \n",
            "in a way that is valuable. Current applications of NLP include language translation, \n",
            "chatbots, sentiment analysis, and voice recognition systems. The field is constantly \n",
            "evolving, with new models such as BERT and GPT transforming the landscape. Despite the \n",
            "advances, NLP faces challenges, including understanding contextual meaning, handling \n",
            "ambiguities, and processing idiomatic expressions. Nonetheless, NLP plays a crucial role \n",
            "in bridging the gap between human communication and computer comprehension.\n",
            "\n",
            "Generated Summary: Current applications NLP include language translation, chatbots, sentiment analysis, voice recognition systems. Natural language processing (NLP) branch artificial intelligence (AI) focused interaction computers humans natural languages. Despite advances, NLP faces challenges, including understanding contextual meaning, handling ambiguities, processing idiomatic expressions.\n",
            "\n",
            "ROUGE Evaluation Scores: {'rouge-1': {'r': 0.5882352941176471, 'p': 0.2702702702702703, 'f': 0.37037036605624146}, 'rouge-2': {'r': 0.11764705882352941, 'p': 0.05128205128205128, 'f': 0.07142856720025534}, 'rouge-l': {'r': 0.47058823529411764, 'p': 0.21621621621621623, 'f': 0.2962962919821674}}\n"
          ]
        }
      ]
    },
    {
      "cell_type": "code",
      "source": [
        "from dash import Dash, dcc, html\n",
        "from jupyter_dash import JupyterDash\n",
        "\n",
        "# Step 5: Generate the summary\n",
        "summary = generate_summary(compressed_sentences, tfidf_scores, top_n=3)  # Select top 3 sentences\n",
        "\n",
        "# Initialize the Dash app\n",
        "app = JupyterDash(__name__)\n",
        "\n",
        "# Define the app layout with two tabs: Original Text and Summary\n",
        "app.layout = html.Div([\n",
        "    dcc.Tabs([\n",
        "        dcc.Tab(label='Original Text', children=[\n",
        "            html.Div([\n",
        "                html.H3(\"Original Text\"),\n",
        "                html.P(text)  # Display the original text\n",
        "            ], style={'padding': '20px'})\n",
        "        ]),\n",
        "        dcc.Tab(label='Generated Summary', children=[\n",
        "            html.Div([\n",
        "                html.H3(\"Generated Summary\"),\n",
        "                html.P(summary)  # Display the summary\n",
        "            ], style={'padding': '20px'})\n",
        "        ])\n",
        "    ])\n",
        "])\n",
        "\n",
        "# Run the app in Jupyter Notebook\n",
        "app.run_server(mode='inline')"
      ],
      "metadata": {
        "colab": {
          "base_uri": "https://localhost:8080/",
          "height": 1000
        },
        "id": "3pCnKMJledK4",
        "outputId": "9f6b2297-2a3e-4dc3-c2a3-9bf985503aad"
      },
      "execution_count": 19,
      "outputs": [
        {
          "output_type": "stream",
          "name": "stderr",
          "text": [
            "/usr/local/lib/python3.10/dist-packages/dash/dash.py:585: UserWarning:\n",
            "\n",
            "JupyterDash is deprecated, use Dash instead.\n",
            "See https://dash.plotly.com/dash-in-jupyter for more details.\n",
            "\n"
          ]
        },
        {
          "output_type": "display_data",
          "data": {
            "text/plain": [
              "<IPython.core.display.Javascript object>"
            ],
            "application/javascript": [
              "(async (port, path, width, height, cache, element) => {\n",
              "    if (!google.colab.kernel.accessAllowed && !cache) {\n",
              "      return;\n",
              "    }\n",
              "    element.appendChild(document.createTextNode(''));\n",
              "    const url = await google.colab.kernel.proxyPort(port, {cache});\n",
              "    const iframe = document.createElement('iframe');\n",
              "    iframe.src = new URL(path, url).toString();\n",
              "    iframe.height = height;\n",
              "    iframe.width = width;\n",
              "    iframe.style.border = 0;\n",
              "    iframe.allow = [\n",
              "        'accelerometer',\n",
              "        'autoplay',\n",
              "        'camera',\n",
              "        'clipboard-read',\n",
              "        'clipboard-write',\n",
              "        'gyroscope',\n",
              "        'magnetometer',\n",
              "        'microphone',\n",
              "        'serial',\n",
              "        'usb',\n",
              "        'xr-spatial-tracking',\n",
              "    ].join('; ');\n",
              "    element.appendChild(iframe);\n",
              "  })(8050, \"/\", \"100%\", 650, false, window.element)"
            ]
          },
          "metadata": {}
        },
        {
          "output_type": "display_data",
          "data": {
            "text/plain": [
              "<IPython.core.display.Javascript object>"
            ],
            "application/javascript": [
              "(async (port, path, width, height, cache, element) => {\n",
              "    if (!google.colab.kernel.accessAllowed && !cache) {\n",
              "      return;\n",
              "    }\n",
              "    element.appendChild(document.createTextNode(''));\n",
              "    const url = await google.colab.kernel.proxyPort(port, {cache});\n",
              "    const iframe = document.createElement('iframe');\n",
              "    iframe.src = new URL(path, url).toString();\n",
              "    iframe.height = height;\n",
              "    iframe.width = width;\n",
              "    iframe.style.border = 0;\n",
              "    iframe.allow = [\n",
              "        'accelerometer',\n",
              "        'autoplay',\n",
              "        'camera',\n",
              "        'clipboard-read',\n",
              "        'clipboard-write',\n",
              "        'gyroscope',\n",
              "        'magnetometer',\n",
              "        'microphone',\n",
              "        'serial',\n",
              "        'usb',\n",
              "        'xr-spatial-tracking',\n",
              "    ].join('; ');\n",
              "    element.appendChild(iframe);\n",
              "  })(8050, \"/\", \"100%\", 650, false, window.element)"
            ]
          },
          "metadata": {}
        }
      ]
    }
  ]
}